{
 "cells": [
  {
   "cell_type": "code",
   "execution_count": 2,
   "id": "1d49a422-a3cb-415e-979f-74aab2607989",
   "metadata": {},
   "outputs": [],
   "source": [
    "enum IpAddrKind {\n",
    "    V4, \n",
    "    V6,\n",
    "}"
   ]
  },
  {
   "cell_type": "code",
   "execution_count": 10,
   "id": "a28f96fe-2275-4095-ac67-c37e267d9f30",
   "metadata": {},
   "outputs": [],
   "source": [
    "// Enum Values\n",
    "//let four = IpAddrKind::V4;\n",
    "//let six = IpAddrKind::V6;"
   ]
  },
  {
   "cell_type": "code",
   "execution_count": 4,
   "id": "90fd4330-2afc-445f-a775-ee3e8d1671f8",
   "metadata": {},
   "outputs": [],
   "source": [
    "fn route(ip_kind: IpAddrKind) {}"
   ]
  },
  {
   "cell_type": "code",
   "execution_count": 5,
   "id": "65bb7a44-feb7-4332-a58e-94efd70473e6",
   "metadata": {},
   "outputs": [],
   "source": [
    "route(IpAddrKind::V4);"
   ]
  },
  {
   "cell_type": "code",
   "execution_count": 6,
   "id": "4c6cea1b-d133-47ae-88d3-8bf27718a150",
   "metadata": {},
   "outputs": [],
   "source": [
    "// Enum has associated String values\n",
    "\n",
    "enum IpAddrKind {\n",
    "    V4(String), \n",
    "    V6(String)\n",
    "}"
   ]
  },
  {
   "cell_type": "code",
   "execution_count": 11,
   "id": "a4640fa5-daa1-475c-9dae-3edf662c3f0c",
   "metadata": {},
   "outputs": [],
   "source": [
    "let home = IpAddrKind::V4(String::from(\"127.0.0.1\"));"
   ]
  },
  {
   "cell_type": "code",
   "execution_count": 14,
   "id": "003103e8-3ef4-400c-8e8b-60eab0953889",
   "metadata": {},
   "outputs": [
    {
     "name": "stdout",
     "output_type": "stream",
     "text": [
      "Extracted string: 127.0.0.1\n"
     ]
    },
    {
     "data": {
      "text/plain": [
       "()"
      ]
     },
     "execution_count": 14,
     "metadata": {},
     "output_type": "execute_result"
    }
   ],
   "source": [
    "match home {\n",
    "    IpAddrKind::V4(s) => println!(\"Extracted string: {}\", s),\n",
    "    IpAddrKind::V6(s) => println!(\"Got an integer: {}\", s),\n",
    "}"
   ]
  },
  {
   "cell_type": "code",
   "execution_count": 15,
   "id": "5accfd89-d6b9-48d6-8022-09113ca31fc9",
   "metadata": {},
   "outputs": [],
   "source": [
    "enum IpAddrKind {\n",
    "    V4(u8, u8), \n",
    "    V6(String)\n",
    "}"
   ]
  },
  {
   "cell_type": "code",
   "execution_count": 16,
   "id": "523f7ca1-c2a9-4556-8e35-686c580715b0",
   "metadata": {},
   "outputs": [],
   "source": [
    "let home = IpAddrKind::V4(10, 10);"
   ]
  },
  {
   "cell_type": "code",
   "execution_count": 17,
   "id": "316cd78d-9acc-4b6c-b551-9033a353b077",
   "metadata": {},
   "outputs": [
    {
     "name": "stdout",
     "output_type": "stream",
     "text": [
      "Extracted string: 10-10\n"
     ]
    },
    {
     "data": {
      "text/plain": [
       "()"
      ]
     },
     "execution_count": 17,
     "metadata": {},
     "output_type": "execute_result"
    }
   ],
   "source": [
    "match home {\n",
    "    IpAddrKind::V4(t,v) => println!(\"Extracted string: {}-{}\", t, v),\n",
    "    IpAddrKind::V6(s) => println!(\"Got an integer: {}\", s),\n",
    "}"
   ]
  },
  {
   "cell_type": "code",
   "execution_count": 25,
   "id": "9ce8471f-048b-4c41-a0ee-2c695b5e1f68",
   "metadata": {},
   "outputs": [],
   "source": [
    "#[derive(Debug)]\n",
    "enum Message {\n",
    "    Quit, \n",
    "    Move { x: i32, y: i32},\n",
    "    Write(String), \n",
    "    ChangeColor(i32, i32, i32)\n",
    "}"
   ]
  },
  {
   "cell_type": "code",
   "execution_count": 19,
   "id": "c9aef1c6-78c4-4673-a1a8-26cf61a8245d",
   "metadata": {},
   "outputs": [],
   "source": [
    "impl Message {\n",
    "    fn call(&self) {\n",
    "        println!(\"in call\")\n",
    "    }\n",
    "}"
   ]
  },
  {
   "cell_type": "code",
   "execution_count": 22,
   "id": "3bd2a00d-9987-4dcc-9f86-5d6c83471666",
   "metadata": {},
   "outputs": [
    {
     "name": "stdout",
     "output_type": "stream",
     "text": [
      "in call\n"
     ]
    },
    {
     "data": {
      "text/plain": [
       "()"
      ]
     },
     "execution_count": 22,
     "metadata": {},
     "output_type": "execute_result"
    }
   ],
   "source": [
    "let m = Message::Write(String::from(\"to\"));\n",
    "m.call()"
   ]
  },
  {
   "cell_type": "code",
   "execution_count": 23,
   "id": "a7340869-0a01-4678-8037-269a809c3b3c",
   "metadata": {},
   "outputs": [],
   "source": [
    "let some_number = Some(5);\n",
    "let some_char = Some('e');\n",
    "let absent_number: Option<i32> = None;"
   ]
  },
  {
   "cell_type": "code",
   "execution_count": 24,
   "id": "31bd4b13-cbad-4e3a-88cb-b1a3599a8945",
   "metadata": {},
   "outputs": [
    {
     "ename": "Error",
     "evalue": "consider importing one of these items",
     "output_type": "error",
     "traceback": [
      "\u001b[31mError:\u001b[0m consider importing one of these items"
     ]
    },
    {
     "ename": "Error",
     "evalue": "cannot add `Option<i8>` to `i8`",
     "output_type": "error",
     "traceback": [
      "\u001b[31m[E0277] Error:\u001b[0m cannot add `Option<i8>` to `i8`",
      "   \u001b[38;5;246m╭\u001b[0m\u001b[38;5;246m─\u001b[0m\u001b[38;5;246m[\u001b[0mcommand_24:1:1\u001b[38;5;246m]\u001b[0m",
      "   \u001b[38;5;246m│\u001b[0m",
      " \u001b[38;5;246m3 │\u001b[0m \u001b[38;5;249ml\u001b[0m\u001b[38;5;249me\u001b[0m\u001b[38;5;249mt\u001b[0m\u001b[38;5;249m \u001b[0m\u001b[38;5;249ms\u001b[0m\u001b[38;5;249mu\u001b[0m\u001b[38;5;249mm\u001b[0m\u001b[38;5;249m \u001b[0m\u001b[38;5;249m=\u001b[0m\u001b[38;5;249m \u001b[0m\u001b[38;5;249mx\u001b[0m\u001b[38;5;249m \u001b[0m\u001b[38;5;54m+\u001b[0m\u001b[38;5;249m \u001b[0m\u001b[38;5;249my\u001b[0m\u001b[38;5;249m;\u001b[0m",
      " \u001b[38;5;240m  │\u001b[0m             \u001b[38;5;54m┬\u001b[0m  ",
      " \u001b[38;5;240m  │\u001b[0m             \u001b[38;5;54m╰\u001b[0m\u001b[38;5;54m─\u001b[0m\u001b[38;5;54m─\u001b[0m no implementation for `i8 + Option<i8>`",
      "\u001b[38;5;246m───╯\u001b[0m"
     ]
    }
   ],
   "source": [
    "let x: i8 = 5; \n",
    "let y: Option<i8> = Some(5);\n",
    "let sum = x + y;"
   ]
  }
 ],
 "metadata": {
  "kernelspec": {
   "display_name": "Rust",
   "language": "rust",
   "name": "rust"
  },
  "language_info": {
   "codemirror_mode": "rust",
   "file_extension": ".rs",
   "mimetype": "text/rust",
   "name": "Rust",
   "pygment_lexer": "rust",
   "version": ""
  }
 },
 "nbformat": 4,
 "nbformat_minor": 5
}

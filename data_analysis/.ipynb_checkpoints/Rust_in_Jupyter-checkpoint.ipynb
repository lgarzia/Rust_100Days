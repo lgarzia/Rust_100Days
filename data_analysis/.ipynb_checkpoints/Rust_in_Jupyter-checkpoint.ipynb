{
 "cells": [
  {
   "cell_type": "code",
   "execution_count": 4,
   "id": "f580dc44-177c-491e-991e-5054e793ec4d",
   "metadata": {},
   "outputs": [],
   "source": [
    "let mut x= \"hello\";"
   ]
  },
  {
   "cell_type": "code",
   "execution_count": 5,
   "id": "42fe18b9-09e5-4183-9dbf-26a4ad4eef31",
   "metadata": {},
   "outputs": [],
   "source": [
    "x = \"world\";"
   ]
  },
  {
   "cell_type": "code",
   "execution_count": 6,
   "id": "5213a3bb-a8bc-4745-b320-b49a2a08da0a",
   "metadata": {},
   "outputs": [
    {
     "name": "stdout",
     "output_type": "stream",
     "text": [
      "world\n"
     ]
    }
   ],
   "source": [
    "println!(\"{x}\");"
   ]
  },
  {
   "cell_type": "code",
   "execution_count": 9,
   "id": "26b72b52-936d-49ae-9cac-5d9f29e49eee",
   "metadata": {},
   "outputs": [],
   "source": [
    "let mut v = vec![1,2,3,4];"
   ]
  },
  {
   "cell_type": "code",
   "execution_count": 13,
   "id": "1020384e-3739-4c39-8f26-87f221933f46",
   "metadata": {},
   "outputs": [
    {
     "data": {
      "text/plain": [
       "4"
      ]
     },
     "execution_count": 13,
     "metadata": {},
     "output_type": "execute_result"
    }
   ],
   "source": [
    "v.len()"
   ]
  },
  {
   "cell_type": "code",
   "execution_count": 22,
   "id": "ccb7509a-7ba6-4c35-9047-fbfe3521be52",
   "metadata": {},
   "outputs": [],
   "source": [
    "let minValue = *v.iter().min().unwrap();"
   ]
  },
  {
   "cell_type": "code",
   "execution_count": 23,
   "id": "624c92de-3022-4251-9786-ae13c131f4f9",
   "metadata": {},
   "outputs": [
    {
     "data": {
      "text/plain": [
       "1"
      ]
     },
     "execution_count": 23,
     "metadata": {},
     "output_type": "execute_result"
    }
   ],
   "source": [
    "minValue"
   ]
  },
  {
   "cell_type": "code",
   "execution_count": null,
   "id": "0a6ce327-5cd3-47f0-baf4-31587e2925f3",
   "metadata": {},
   "outputs": [],
   "source": []
  }
 ],
 "metadata": {
  "kernelspec": {
   "display_name": "Rust",
   "language": "rust",
   "name": "rust"
  },
  "language_info": {
   "codemirror_mode": "rust",
   "file_extension": ".rs",
   "mimetype": "text/rust",
   "name": "Rust",
   "pygment_lexer": "rust",
   "version": ""
  }
 },
 "nbformat": 4,
 "nbformat_minor": 5
}

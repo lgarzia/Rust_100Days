{
 "cells": [
  {
   "cell_type": "code",
   "execution_count": 4,
   "id": "f580dc44-177c-491e-991e-5054e793ec4d",
   "metadata": {},
   "outputs": [],
   "source": [
    "let mut x= \"hello\";"
   ]
  },
  {
   "cell_type": "code",
   "execution_count": 5,
   "id": "42fe18b9-09e5-4183-9dbf-26a4ad4eef31",
   "metadata": {},
   "outputs": [],
   "source": [
    "x = \"world\";"
   ]
  },
  {
   "cell_type": "code",
   "execution_count": 6,
   "id": "5213a3bb-a8bc-4745-b320-b49a2a08da0a",
   "metadata": {},
   "outputs": [
    {
     "name": "stdout",
     "output_type": "stream",
     "text": [
      "world\n"
     ]
    }
   ],
   "source": [
    "println!(\"{x}\");"
   ]
  },
  {
   "cell_type": "code",
   "execution_count": 9,
   "id": "26b72b52-936d-49ae-9cac-5d9f29e49eee",
   "metadata": {},
   "outputs": [],
   "source": [
    "let mut v = vec![1,2,3,4];"
   ]
  },
  {
   "cell_type": "code",
   "execution_count": 13,
   "id": "1020384e-3739-4c39-8f26-87f221933f46",
   "metadata": {},
   "outputs": [
    {
     "data": {
      "text/plain": [
       "4"
      ]
     },
     "execution_count": 13,
     "metadata": {},
     "output_type": "execute_result"
    }
   ],
   "source": [
    "v.len()"
   ]
  },
  {
   "cell_type": "code",
   "execution_count": 22,
   "id": "ccb7509a-7ba6-4c35-9047-fbfe3521be52",
   "metadata": {},
   "outputs": [],
   "source": [
    "let minValue = *v.iter().min().unwrap();"
   ]
  },
  {
   "cell_type": "code",
   "execution_count": 23,
   "id": "624c92de-3022-4251-9786-ae13c131f4f9",
   "metadata": {},
   "outputs": [
    {
     "data": {
      "text/plain": [
       "1"
      ]
     },
     "execution_count": 23,
     "metadata": {},
     "output_type": "execute_result"
    }
   ],
   "source": [
    "minValue"
   ]
  },
  {
   "cell_type": "code",
   "execution_count": 24,
   "id": "0a6ce327-5cd3-47f0-baf4-31587e2925f3",
   "metadata": {},
   "outputs": [],
   "source": [
    "fn take_ownership(some_string: String) {\n",
    "  // The ownership of the String is transferred to some_string\n",
    "  println!(\"Got ownership: {}\", some_string);\n",
    "}  // some_string goes out of scope and the memory is freed"
   ]
  },
  {
   "cell_type": "code",
   "execution_count": 25,
   "id": "b2247263-54db-47df-8ce9-bf8988b89dd1",
   "metadata": {},
   "outputs": [],
   "source": [
    "let my_string = String::from(\"Hello, ownership!\");"
   ]
  },
  {
   "cell_type": "code",
   "execution_count": 26,
   "id": "967e8fa0-5677-4537-af2e-0fbb0e5cdb82",
   "metadata": {},
   "outputs": [
    {
     "name": "stdout",
     "output_type": "stream",
     "text": [
      "Got ownership: Hello, ownership!\n"
     ]
    }
   ],
   "source": [
    "take_ownership(my_string);"
   ]
  },
  {
   "cell_type": "code",
   "execution_count": 27,
   "id": "e0649cd9-b20f-4f33-b08d-53153480a385",
   "metadata": {},
   "outputs": [
    {
     "ename": "Error",
     "evalue": "cannot find value `my_string` in this scope",
     "output_type": "error",
     "traceback": [
      "\u001b[31m[E0425] Error:\u001b[0m cannot find value `my_string` in this scope",
      "   \u001b[38;5;246m╭\u001b[0m\u001b[38;5;246m─\u001b[0m\u001b[38;5;246m[\u001b[0mcommand_27:1:1\u001b[38;5;246m]\u001b[0m",
      "   \u001b[38;5;246m│\u001b[0m",
      " \u001b[38;5;246m1 │\u001b[0m \u001b[38;5;54mm\u001b[0m\u001b[38;5;54my\u001b[0m\u001b[38;5;54m_\u001b[0m\u001b[38;5;54ms\u001b[0m\u001b[38;5;54mt\u001b[0m\u001b[38;5;54mr\u001b[0m\u001b[38;5;54mi\u001b[0m\u001b[38;5;54mn\u001b[0m\u001b[38;5;54mg\u001b[0m",
      " \u001b[38;5;240m  │\u001b[0m \u001b[38;5;54m─\u001b[0m\u001b[38;5;54m─\u001b[0m\u001b[38;5;54m─\u001b[0m\u001b[38;5;54m─\u001b[0m\u001b[38;5;54m┬\u001b[0m\u001b[38;5;54m─\u001b[0m\u001b[38;5;54m─\u001b[0m\u001b[38;5;54m─\u001b[0m\u001b[38;5;54m─\u001b[0m  ",
      " \u001b[38;5;240m  │\u001b[0m     \u001b[38;5;54m╰\u001b[0m\u001b[38;5;54m─\u001b[0m\u001b[38;5;54m─\u001b[0m\u001b[38;5;54m─\u001b[0m\u001b[38;5;54m─\u001b[0m\u001b[38;5;54m─\u001b[0m\u001b[38;5;54m─\u001b[0m not found in this scope",
      "\u001b[38;5;246m───╯\u001b[0m"
     ]
    }
   ],
   "source": [
    "my_string"
   ]
  },
  {
   "cell_type": "code",
   "execution_count": 49,
   "id": "1bf5c1da-67e3-4386-8e61-d40ba5165880",
   "metadata": {},
   "outputs": [
    {
     "name": "stdout",
     "output_type": "stream",
     "text": [
      "r1: Hello, Rust!, r2: Hello, Rust!\n"
     ]
    },
    {
     "data": {
      "text/plain": [
       "()"
      ]
     },
     "execution_count": 49,
     "metadata": {},
     "output_type": "execute_result"
    }
   ],
   "source": [
    "let s = \"Hello, Rust!\";\n",
    "{\n",
    "    let r1 = {&s};  // Immutable borrow\n",
    "    let r2 = {&s};  // Another immutable borrow\n",
    "    \n",
    "    println!(\"r1: {}, r2: {}\", r1, r2);\n",
    "}"
   ]
  },
  {
   "cell_type": "code",
   "execution_count": 41,
   "id": "c0e145fa-c93f-49e6-8c26-4c2616247add",
   "metadata": {},
   "outputs": [],
   "source": [
    "use std::hint::black_box;"
   ]
  },
  {
   "cell_type": "code",
   "execution_count": 42,
   "id": "ceb6690e-9bab-4258-a0f5-58e916119429",
   "metadata": {},
   "outputs": [],
   "source": [
    "fn fibonacci(n: u64) -> u64 {\n",
    "    match n {\n",
    "        1 | 0 => n,\n",
    "        _ => fibonacci(n - 1) + fibonacci(n - 2),\n",
    "    }\n",
    "}"
   ]
  },
  {
   "cell_type": "code",
   "execution_count": 43,
   "id": "37493343-8f31-4b5f-a30d-94b3b9bbf1e3",
   "metadata": {},
   "outputs": [
    {
     "name": "stdout",
     "output_type": "stream",
     "text": [
      "Average time taken: 1.3906978900000007 s\n"
     ]
    }
   ],
   "source": [
    "let mut total: f64 = 0.0;\n",
    "    for _ in 1..=20 {\n",
    "        let start = std::time::Instant::now();\n",
    "        black_box(fibonacci(black_box(40)));\n",
    "        let elapsed = start.elapsed().as_secs_f64();\n",
    "        total += elapsed;\n",
    "    }\n",
    "    let avg_time = total / 20.0;\n",
    "    println!(\"Average time taken: {} s\", avg_time);"
   ]
  },
  {
   "cell_type": "code",
   "execution_count": null,
   "id": "c8ac94d1-5266-40f7-ad7b-c2e37dc270f2",
   "metadata": {},
   "outputs": [],
   "source": []
  }
 ],
 "metadata": {
  "kernelspec": {
   "display_name": "Rust",
   "language": "rust",
   "name": "rust"
  },
  "language_info": {
   "codemirror_mode": "rust",
   "file_extension": ".rs",
   "mimetype": "text/rust",
   "name": "Rust",
   "pygment_lexer": "rust",
   "version": ""
  }
 },
 "nbformat": 4,
 "nbformat_minor": 5
}

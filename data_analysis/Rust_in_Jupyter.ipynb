{
 "cells": [
  {
   "cell_type": "code",
   "execution_count": 3,
   "id": "5c226548-d302-4391-ac30-70f33cbe4654",
   "metadata": {},
   "outputs": [],
   "source": [
    ":dep plotters = { version = \"^0.3.5\", default_features = false, features = [\"evcxr\", \"all_series\", \"all_elements\"] }"
   ]
  },
  {
   "cell_type": "code",
   "execution_count": 15,
   "id": "68b898df-c00e-44fb-b610-ae392ff9a622",
   "metadata": {},
   "outputs": [],
   "source": [
    ":dep polars = {version = \"0.35.0\", features= [\"describe\"]}"
   ]
  },
  {
   "cell_type": "code",
   "execution_count": 5,
   "id": "f580dc44-177c-491e-991e-5054e793ec4d",
   "metadata": {},
   "outputs": [
    {
     "data": {
      "text/plain": [
       "plotters = { version = \"^0.3.5\", default_features = false, features = [\"evcxr\", \"all_series\", \"all_elements\"] }\n",
       "polars = {version = \"0.35.0\"}\n"
      ]
     },
     "execution_count": 5,
     "metadata": {},
     "output_type": "execute_result"
    }
   ],
   "source": [
    ":show_deps"
   ]
  },
  {
   "cell_type": "code",
   "execution_count": 19,
   "id": "76849ca4-d03f-43b3-bcf8-933071971d6e",
   "metadata": {},
   "outputs": [],
   "source": [
    "use polars::prelude::*;\n",
    "use polars::frame::DataFrame;\n",
    "use std::path::Path;"
   ]
  },
  {
   "cell_type": "code",
   "execution_count": 20,
   "id": "68a97ef0-c66e-4cbc-92fa-31f72af9b702",
   "metadata": {},
   "outputs": [],
   "source": [
    "fn read_data_frame_from_csv(csv_file_path: &Path) -> DataFrame {\n",
    "    CsvReader::from_path(csv_file_path)\n",
    "        .expect(\"Cannot open file.\")\n",
    "        .has_header(true)\n",
    "        .finish()\n",
    "        .unwrap()\n",
    "}"
   ]
  },
  {
   "cell_type": "code",
   "execution_count": 21,
   "id": "4165c12f-0715-45e6-a2cc-b611f7528d44",
   "metadata": {},
   "outputs": [],
   "source": [
    "let iris_file_path: &Path = Path::new(\"dataset/Iris.csv\");\n",
    "let iris_df: DataFrame = read_data_frame_from_csv(iris_file_path);"
   ]
  },
  {
   "cell_type": "code",
   "execution_count": 22,
   "id": "4f8c1e3a-5366-49a1-b237-ae903d1990bd",
   "metadata": {},
   "outputs": [
    {
     "name": "stdout",
     "output_type": "stream",
     "text": [
      "(150, 5)\n"
     ]
    },
    {
     "data": {
      "text/plain": [
       "()"
      ]
     },
     "execution_count": 22,
     "metadata": {},
     "output_type": "execute_result"
    }
   ],
   "source": [
    "println!(\"{:?}\", iris_df.shape())"
   ]
  },
  {
   "cell_type": "code",
   "execution_count": 23,
   "id": "080fcb9e-9ca1-4d3a-8d66-a29057edad49",
   "metadata": {},
   "outputs": [
    {
     "data": {
      "text/plain": [
       "shape: (5, 5)\n",
       "┌──────────────┬─────────────┬──────────────┬─────────────┬─────────┐\n",
       "│ sepal.length ┆ sepal.width ┆ petal.length ┆ petal.width ┆ variety │\n",
       "│ ---          ┆ ---         ┆ ---          ┆ ---         ┆ ---     │\n",
       "│ f64          ┆ f64         ┆ f64          ┆ f64         ┆ str     │\n",
       "╞══════════════╪═════════════╪══════════════╪═════════════╪═════════╡\n",
       "│ 5.1          ┆ 3.5         ┆ 1.4          ┆ 0.2         ┆ Setosa  │\n",
       "│ 4.9          ┆ 3.0         ┆ 1.4          ┆ 0.2         ┆ Setosa  │\n",
       "│ 4.7          ┆ 3.2         ┆ 1.3          ┆ 0.2         ┆ Setosa  │\n",
       "│ 4.6          ┆ 3.1         ┆ 1.5          ┆ 0.2         ┆ Setosa  │\n",
       "│ 5.0          ┆ 3.6         ┆ 1.4          ┆ 0.2         ┆ Setosa  │\n",
       "└──────────────┴─────────────┴──────────────┴─────────────┴─────────┘"
      ]
     },
     "execution_count": 23,
     "metadata": {},
     "output_type": "execute_result"
    }
   ],
   "source": [
    "iris_df.head(Some(5))"
   ]
  },
  {
   "cell_type": "code",
   "execution_count": 25,
   "id": "50fc22b1-0e41-434d-a97d-726439d68a58",
   "metadata": {},
   "outputs": [],
   "source": [
    "iris_df.tail(Some(5));"
   ]
  },
  {
   "cell_type": "code",
   "execution_count": 26,
   "id": "dfc4470e-d73e-4b70-8f86-5a8e4f879d1a",
   "metadata": {},
   "outputs": [
    {
     "data": {
      "text/plain": [
       "Ok(shape: (9, 6)\n",
       "┌────────────┬──────────────┬─────────────┬──────────────┬─────────────┬───────────┐\n",
       "│ describe   ┆ sepal.length ┆ sepal.width ┆ petal.length ┆ petal.width ┆ variety   │\n",
       "│ ---        ┆ ---          ┆ ---         ┆ ---          ┆ ---         ┆ ---       │\n",
       "│ str        ┆ f64          ┆ f64         ┆ f64          ┆ f64         ┆ str       │\n",
       "╞════════════╪══════════════╪═════════════╪══════════════╪═════════════╪═══════════╡\n",
       "│ count      ┆ 150.0        ┆ 150.0       ┆ 150.0        ┆ 150.0       ┆ 150       │\n",
       "│ null_count ┆ 0.0          ┆ 0.0         ┆ 0.0          ┆ 0.0         ┆ 0         │\n",
       "│ mean       ┆ 5.843333     ┆ 3.057333    ┆ 3.758        ┆ 1.199333    ┆ null      │\n",
       "│ std        ┆ 0.828066     ┆ 0.435866    ┆ 1.765298     ┆ 0.762238    ┆ null      │\n",
       "│ min        ┆ 4.3          ┆ 2.0         ┆ 1.0          ┆ 0.1         ┆ Setosa    │\n",
       "│ 25%        ┆ 5.1          ┆ 2.8         ┆ 1.6          ┆ 0.3         ┆ null      │\n",
       "│ 50%        ┆ 5.8          ┆ 3.0         ┆ 4.35         ┆ 1.3         ┆ null      │\n",
       "│ 75%        ┆ 6.4          ┆ 3.3         ┆ 5.1          ┆ 1.8         ┆ null      │\n",
       "│ max        ┆ 7.9          ┆ 4.4         ┆ 6.9          ┆ 2.5         ┆ Virginica │\n",
       "└────────────┴──────────────┴─────────────┴──────────────┴─────────────┴───────────┘)"
      ]
     },
     "execution_count": 26,
     "metadata": {},
     "output_type": "execute_result"
    }
   ],
   "source": [
    "iris_df.describe(None)"
   ]
  },
  {
   "cell_type": "code",
   "execution_count": 28,
   "id": "5474c093-2dac-46bc-b855-352501340794",
   "metadata": {},
   "outputs": [
    {
     "data": {
      "text/plain": [
       "[\"sepal.length\", \"sepal.width\", \"petal.length\", \"petal.width\", \"variety\"]"
      ]
     },
     "execution_count": 28,
     "metadata": {},
     "output_type": "execute_result"
    }
   ],
   "source": [
    "let column_names = iris_df.get_column_names(); \n",
    "{\n",
    "    column_names\n",
    "}"
   ]
  },
  {
   "cell_type": "code",
   "execution_count": 33,
   "id": "e082ebe2-a205-4a76-98c0-a9c7755d9e25",
   "metadata": {},
   "outputs": [
    {
     "name": "stdout",
     "output_type": "stream",
     "text": [
      "Some(3.0573333333333332)\n"
     ]
    }
   ],
   "source": [
    "println!(\"{:?}\", iris_df[\"sepal.width\"].mean());"
   ]
  },
  {
   "cell_type": "code",
   "execution_count": 34,
   "id": "9b44de4e-42bd-4489-a70d-2490042cf34b",
   "metadata": {},
   "outputs": [
    {
     "name": "stdout",
     "output_type": "stream",
     "text": [
      "shape: (1, 5)\n",
      "┌──────────────┬─────────────┬──────────────┬─────────────┬─────────┐\n",
      "│ sepal.length ┆ sepal.width ┆ petal.length ┆ petal.width ┆ variety │\n",
      "│ ---          ┆ ---         ┆ ---          ┆ ---         ┆ ---     │\n",
      "│ f64          ┆ f64         ┆ f64          ┆ f64         ┆ str     │\n",
      "╞══════════════╪═════════════╪══════════════╪═════════════╪═════════╡\n",
      "│ 5.843333     ┆ 3.057333    ┆ 3.758        ┆ 1.199333    ┆ null    │\n",
      "└──────────────┴─────────────┴──────────────┴─────────────┴─────────┘\n"
     ]
    }
   ],
   "source": [
    "println!(\"{}\", iris_df.mean());"
   ]
  },
  {
   "cell_type": "code",
   "execution_count": 35,
   "id": "d4a34c7d-27ec-41d8-83ea-d93dd24fc9f0",
   "metadata": {},
   "outputs": [
    {
     "name": "stdout",
     "output_type": "stream",
     "text": [
      "shape: (1, 5)\n",
      "┌──────────────┬─────────────┬──────────────┬─────────────┬───────────┐\n",
      "│ sepal.length ┆ sepal.width ┆ petal.length ┆ petal.width ┆ variety   │\n",
      "│ ---          ┆ ---         ┆ ---          ┆ ---         ┆ ---       │\n",
      "│ f64          ┆ f64         ┆ f64          ┆ f64         ┆ str       │\n",
      "╞══════════════╪═════════════╪══════════════╪═════════════╪═══════════╡\n",
      "│ 7.9          ┆ 4.4         ┆ 6.9          ┆ 2.5         ┆ Virginica │\n",
      "└──────────────┴─────────────┴──────────────┴─────────────┴───────────┘\n"
     ]
    }
   ],
   "source": [
    "println!(\"{}\", iris_df.max());"
   ]
  },
  {
   "cell_type": "code",
   "execution_count": null,
   "id": "4b1d6a73-95b8-4ba3-a9ee-3d9ebbe2cbdc",
   "metadata": {},
   "outputs": [],
   "source": [
    "// https://crates.io/crates/ndarray\n"
   ]
  }
 ],
 "metadata": {
  "kernelspec": {
   "display_name": "Rust",
   "language": "rust",
   "name": "rust"
  },
  "language_info": {
   "codemirror_mode": "rust",
   "file_extension": ".rs",
   "mimetype": "text/rust",
   "name": "Rust",
   "pygment_lexer": "rust",
   "version": ""
  }
 },
 "nbformat": 4,
 "nbformat_minor": 5
}
